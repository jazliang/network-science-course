{
 "cells": [
  {
   "cell_type": "markdown",
   "metadata": {},
   "source": [
    "# Network Properties and Visualization"
   ]
  },
  {
   "cell_type": "markdown",
   "metadata": {},
   "source": [
    "In this part we are going to get familiar with basics of [NetworkX](https://networkx.github.io/) and [Gephi](https://gephi.org/) for analysing and visualizing networks.\n",
    "\n",
    "## Task 1\n",
    "\n",
    "NetworkX is a Python library for the analysis of networks. With NetworkX you can create, import, manipulate graphs. Additionally, you can calculate some basic properties of these graphs with its built-in functions. Unfortunately, NetworkX is not very powerful for visualizing large graphs which we are going to work with most of the time. For this reason, we are going to use a software called Gephi. In this homework, you are going to do some basic analysis on some famous graphs and then store the results in a format readable by Gephi. You then use Gephi to have a meaningful visualization of these results.  \n",
    "\n",
    "You can download Gephi from the following web page: [https://gephi.org/users/download](https://gephi.org/users/download).\n",
    "\n",
    "You can also learn the basics of NetworkX library and Gephi by looking at the following pages.\n",
    "\n",
    "Some useful links to get familiar with NetworkX:\n",
    "\n",
    "- [https://vimeo.com/124354692](https://vimeo.com/124354692)\n",
    "- [https://www.cl.cam.ac.uk/~cm542/teaching/2010/stna-pdfs/stna-lecture8.pdf](https://www.cl.cam.ac.uk/~cm542/teaching/2010/stna-pdfs/stna-lecture8.pdf)\n",
    "\n",
    "Some useful links to get familiar with Gephi:\n",
    "\n",
    "- [https://gephi.org/users/tutorial-visualization/](https://gephi.org/users/tutorial-visualization/)\n",
    "- [https://www.youtube.com/watch?v=FLiv3xnEepw](https://www.youtube.com/watch?v=FLiv3xnEepw)"
   ]
  },
  {
   "cell_type": "markdown",
   "metadata": {},
   "source": [
    "### Run the following cell to import the libraries that we are going to use in this homework:"
   ]
  },
  {
   "cell_type": "code",
   "execution_count": 1,
   "metadata": {},
   "outputs": [
    {
     "name": "stdout",
     "output_type": "stream",
     "text": [
      "Populating the interactive namespace from numpy and matplotlib\n",
      "CPU times: user 664 ms, sys: 485 ms, total: 1.15 s\n",
      "Wall time: 1.13 s\n"
     ]
    }
   ],
   "source": [
    "%%time\n",
    "\n",
    "%pylab inline\n",
    "import networkx as nx\n",
    "import numpy as np\n",
    "import matplotlib.pyplot as plt\n",
    "import scipy\n",
    "import warnings\n",
    "warnings.filterwarnings('ignore')\n",
    "import time\n",
    "import os"
   ]
  },
  {
   "cell_type": "markdown",
   "metadata": {},
   "source": [
    "## Facebook"
   ]
  },
  {
   "cell_type": "code",
   "execution_count": 2,
   "metadata": {},
   "outputs": [
    {
     "name": "stdout",
     "output_type": "stream",
     "text": [
      "# nodes: 4039\n",
      "# edges: 88234\n"
     ]
    }
   ],
   "source": [
    "filename = \"/datasets/ece227-fa19-public/data/facebook/facebook_combined.txt\"\n",
    "\n",
    "g1 = nx.read_edgelist(filename, create_using=nx.Graph(), nodetype=int)\n",
    "n_nodes, n_edges = g1.order(), g1.size()\n",
    "\n",
    "print(\"# nodes:\", n_nodes)\n",
    "print(\"# edges:\", n_edges)"
   ]
  },
  {
   "cell_type": "markdown",
   "metadata": {},
   "source": [
    "### Degree distribution"
   ]
  },
  {
   "cell_type": "code",
   "execution_count": 3,
   "metadata": {},
   "outputs": [],
   "source": [
    "# Update node attributes\n",
    "for node in g1.nodes():\n",
    "    g1.nodes[node]['deg'] = g1.degree[node]"
   ]
  },
  {
   "cell_type": "code",
   "execution_count": 4,
   "metadata": {},
   "outputs": [
    {
     "data": {
      "text/plain": [
       "[<matplotlib.lines.Line2D at 0x7f981a6c29e8>]"
      ]
     },
     "execution_count": 4,
     "metadata": {},
     "output_type": "execute_result"
    },
    {
     "data": {
      "image/png": "[encoded data removed]",
      "text/plain": [
       "<Figure size 432x288 with 1 Axes>"
      ]
     },
     "metadata": {
      "needs_background": "light"
     },
     "output_type": "display_data"
    }
   ],
   "source": [
    "# Plot degree distribution\n",
    "plt.xlabel(\"Degree\")\n",
    "plt.ylabel(\"# Node\")\n",
    "plt.plot(nx.degree_histogram(g1))"
   ]
  },
  {
   "cell_type": "markdown",
   "metadata": {},
   "source": [
    "### Network diameter and average shortest path"
   ]
  },
  {
   "cell_type": "code",
   "execution_count": 4,
   "metadata": {},
   "outputs": [
    {
     "name": "stdout",
     "output_type": "stream",
     "text": [
      "Network diameter = 8\n",
      "Average Shortest path length = 3.6925068496963913\n",
      "CPU times: user 6min 22s, sys: 65.3 ms, total: 6min 22s\n",
      "Wall time: 6min 24s\n"
     ]
    }
   ],
   "source": [
    "%%time\n",
    "\n",
    "connected = nx.is_connected(g1)\n",
    "\n",
    "if connected is True:\n",
    "    diameter = nx.diameter(g1)\n",
    "    print(\"Network diameter:\", diameter)\n",
    "    \n",
    "    avg_spl = nx.average_shortest_path_length(g1)\n",
    "    print(\"Average Shortest path length:\", avg_spl)"
   ]
  },
  {
   "cell_type": "markdown",
   "metadata": {},
   "source": [
    "### Clustering coefficients"
   ]
  },
  {
   "cell_type": "code",
   "execution_count": 31,
   "metadata": {},
   "outputs": [
    {
     "name": "stdout",
     "output_type": "stream",
     "text": [
      "Average clusterng coefficient = 0.6055467186200862\n"
     ]
    },
    {
     "data": {
      "image/png": "[encoded data removed]",
      "text/plain": [
       "<Figure size 432x288 with 1 Axes>"
      ]
     },
     "metadata": {
      "needs_background": "light"
     },
     "output_type": "display_data"
    }
   ],
   "source": [
    "cc = nx.clustering(g1)\n",
    "\n",
    "plt.hist(list(cc.values()), bins=100)\n",
    "plt.xlabel('Clustering Coefficient')\n",
    "plt.ylabel('# Nodes')\n",
    "plt.xlim([0, 1])\n",
    "\n",
    "print(\"Average clusterng coefficient:\", mean(list(cc.values())))"
   ]
  },
  {
   "cell_type": "markdown",
   "metadata": {},
   "source": [
    "### Degree centrality"
   ]
  },
  {
   "cell_type": "code",
   "execution_count": 47,
   "metadata": {},
   "outputs": [
    {
     "name": "stdout",
     "output_type": "stream",
     "text": [
      "Average degree centrality = 0.010819963503439287\n"
     ]
    },
    {
     "data": {
      "image/png": "[encoded data removed]",
      "text/plain": [
       "<Figure size 432x288 with 1 Axes>"
      ]
     },
     "metadata": {
      "needs_background": "light"
     },
     "output_type": "display_data"
    }
   ],
   "source": [
    "dc = nx.degree_centrality(g1)\n",
    "\n",
    "plt.hist(list(dc.values()), bins=50, log=True)\n",
    "\n",
    "plt.xlabel('Degree Centrality')\n",
    "plt.ylabel('# Nodes')\n",
    "\n",
    "plt.xlim([0, max(dc.values())])\n",
    "\n",
    "print(\"Average degree centrality:\", mean(list(dc.values())))"
   ]
  },
  {
   "cell_type": "markdown",
   "metadata": {},
   "source": [
    "### Betweenness centrality"
   ]
  },
  {
   "cell_type": "code",
   "execution_count": 5,
   "metadata": {},
   "outputs": [
    {
     "name": "stdout",
     "output_type": "stream",
     "text": [
      "Average betweenness centrality: 0.0006669573568730229\n",
      "CPU times: user 2min 27s, sys: 202 ms, total: 2min 27s\n",
      "Wall time: 2min 28s\n"
     ]
    },
    {
     "data": {
      "image/png": "[encoded data removed]",
      "text/plain": [
       "<Figure size 432x288 with 1 Axes>"
      ]
     },
     "metadata": {
      "needs_background": "light"
     },
     "output_type": "display_data"
    }
   ],
   "source": [
    "%%time\n",
    "\n",
    "bc = nx.betweenness_centrality(g1)\n",
    "\n",
    "# Update node attributes\n",
    "for node in g1.nodes():\n",
    "    g1.nodes[node]['bc'] = bc[node]\n",
    "\n",
    "# Plot\n",
    "plt.hist(list(bc.values()), bins=500, log=True)\n",
    "plt.xlabel('Betweenness Centrality')\n",
    "plt.ylabel('# Nodes')\n",
    "\n",
    "print(\"Average betweenness centrality:\", mean(list(bc.values())))"
   ]
  },
  {
   "cell_type": "markdown",
   "metadata": {},
   "source": [
    "### Eigenvector centrality"
   ]
  },
  {
   "cell_type": "code",
   "execution_count": 10,
   "metadata": {},
   "outputs": [
    {
     "name": "stdout",
     "output_type": "stream",
     "text": [
      "Average Eigenvector centrality = 0.003864340807927154\n"
     ]
    },
    {
     "data": {
      "image/png": "[encoded data removed]",
      "text/plain": [
       "<Figure size 432x288 with 1 Axes>"
      ]
     },
     "metadata": {
      "needs_background": "light"
     },
     "output_type": "display_data"
    }
   ],
   "source": [
    "eigen_c = nx.eigenvector_centrality(g1)\n",
    "\n",
    "plt.hist(list(eigen_c.values()), bins=500, log=True)\n",
    "plt.xlabel('Eigenvector Centrality')\n",
    "plt.ylabel('# Nodes')\n",
    "\n",
    "print(\"Average Eigenvector centrality:\", mean(list(eigen_c.values())))"
   ]
  },
  {
   "cell_type": "markdown",
   "metadata": {},
   "source": [
    "### Output as `GML`\n",
    "\n",
    "Write a code to store the graph in a file that is readable by Gephi (Hint: Use NetworkX `write_gml` method.) Make sure to add the betweenness centrality and degree of each node as an attribute of each node to be stored in this file for the next task."
   ]
  },
  {
   "cell_type": "code",
   "execution_count": 6,
   "metadata": {},
   "outputs": [],
   "source": [
    "nx.write_gml(g1, \"g1.gml\")"
   ]
  },
  {
   "cell_type": "markdown",
   "metadata": {},
   "source": [
    "## Enron email network analysis"
   ]
  },
  {
   "cell_type": "code",
   "execution_count": 3,
   "metadata": {
    "scrolled": true
   },
   "outputs": [
    {
     "name": "stdout",
     "output_type": "stream",
     "text": [
      "# nodes: 36692\n",
      "# edges: 183831\n"
     ]
    }
   ],
   "source": [
    "filename2 = \"/datasets/ece227-fa19-public/data/enron/email-Enron.txt\"\n",
    "\n",
    "g2 = nx.read_edgelist(filename2, create_using=nx.Graph(), nodetype=int)\n",
    "node, edge = g2.order(), g2.size()\n",
    "\n",
    "print(\"# nodes:\", node)\n",
    "print(\"# edges:\", edge)"
   ]
  },
  {
   "cell_type": "markdown",
   "metadata": {},
   "source": [
    "### Degree distribution"
   ]
  },
  {
   "cell_type": "code",
   "execution_count": 4,
   "metadata": {},
   "outputs": [],
   "source": [
    "# Update node attributes\n",
    "for node in g2.nodes():\n",
    "    g2.nodes[node]['deg'] = g2.degree[node]"
   ]
  },
  {
   "cell_type": "code",
   "execution_count": 20,
   "metadata": {
    "scrolled": true
   },
   "outputs": [
    {
     "data": {
      "text/plain": [
       "(0, 80)"
      ]
     },
     "execution_count": 20,
     "metadata": {},
     "output_type": "execute_result"
    },
    {
     "data": {
      "image/png": "[encoded data removed]",
      "text/plain": [
       "<Figure size 432x288 with 1 Axes>"
      ]
     },
     "metadata": {
      "needs_background": "light"
     },
     "output_type": "display_data"
    }
   ],
   "source": [
    "plt.xlabel(\"Degree\")\n",
    "plt.ylabel(\"# Node\")\n",
    "plt.plot(nx.degree_histogram(g2))\n",
    "plt.xlim(0, 80)"
   ]
  },
  {
   "cell_type": "markdown",
   "metadata": {},
   "source": [
    "### Network diameter and average shortest path"
   ]
  },
  {
   "cell_type": "code",
   "execution_count": 3,
   "metadata": {},
   "outputs": [
    {
     "name": "stdout",
     "output_type": "stream",
     "text": [
      "The graph is not connected.\n"
     ]
    }
   ],
   "source": [
    "if nx.is_connected(g2) is True:\n",
    "    diameter = nx.diameter(g2)\n",
    "    print(\"Network diameter:\", diameter)\n",
    "    \n",
    "    avg_spl = nx.average_shortest_path_length(g2)\n",
    "    print(\"Average Shortest path length:\", avg_spl)\n",
    "else:\n",
    "    print(\"The graph is not connected.\")"
   ]
  },
  {
   "cell_type": "markdown",
   "metadata": {},
   "source": [
    "Since the network is not connected the network diameter and average shortest path are not well-defined. We can instead find these quantities for the **largest connected component** in the graph."
   ]
  },
  {
   "cell_type": "code",
   "execution_count": 5,
   "metadata": {},
   "outputs": [
    {
     "name": "stdout",
     "output_type": "stream",
     "text": [
      "Name: \n",
      "Type: Graph\n",
      "Number of nodes: 33696\n",
      "Number of edges: 180811\n",
      "Average degree:  10.7319\n"
     ]
    }
   ],
   "source": [
    "connected_components = list(nx.connected_component_subgraphs(g2, copy=True))\n",
    "largest_cc = max(connected_components, key=lambda x: x.order())\n",
    "\n",
    "print(nx.info(largest_cc))"
   ]
  },
  {
   "cell_type": "markdown",
   "metadata": {},
   "source": [
    "As we can see, this largest connected component is almost the same size as the original graph. From now on we would just focus on analyzing this connected component."
   ]
  },
  {
   "cell_type": "code",
   "execution_count": 6,
   "metadata": {},
   "outputs": [],
   "source": [
    "g2 = largest_cc"
   ]
  },
  {
   "cell_type": "code",
   "execution_count": 36,
   "metadata": {},
   "outputs": [
    {
     "name": "stdout",
     "output_type": "stream",
     "text": [
      "Network diameter: 13\n",
      "Average Shortest path length: 4.025163988178407\n",
      "CPU times: user 3h 30min 49s, sys: 4.99 s, total: 3h 30min 54s\n",
      "Wall time: 3h 33min 23s\n"
     ]
    }
   ],
   "source": [
    "%%time\n",
    "\n",
    "diameter = nx.diameter(g2)\n",
    "print(\"Network diameter:\", diameter)\n",
    "\n",
    "avg_spl = nx.average_shortest_path_length(g2)\n",
    "print(\"Average Shortest path length:\", avg_spl)"
   ]
  },
  {
   "cell_type": "markdown",
   "metadata": {},
   "source": [
    "### Clustering coefficients"
   ]
  },
  {
   "cell_type": "code",
   "execution_count": 9,
   "metadata": {},
   "outputs": [
    {
     "name": "stdout",
     "output_type": "stream",
     "text": [
      "Average clusterng coefficient: 0.5091899019721599\n"
     ]
    },
    {
     "data": {
      "image/png": "[encoded data removed]",
      "text/plain": [
       "<Figure size 432x288 with 1 Axes>"
      ]
     },
     "metadata": {
      "needs_background": "light"
     },
     "output_type": "display_data"
    }
   ],
   "source": [
    "cc = nx.clustering(g2)\n",
    "\n",
    "plt.hist(list(cc.values()), bins=50)\n",
    "plt.xlabel('Clustering Coefficient')\n",
    "plt.ylabel('# Nodes')\n",
    "plt.xlim([0, 1])\n",
    "\n",
    "print(\"Average clusterng coefficient:\", mean(list(cc.values())))"
   ]
  },
  {
   "cell_type": "markdown",
   "metadata": {},
   "source": [
    "### Degree centrality"
   ]
  },
  {
   "cell_type": "code",
   "execution_count": 13,
   "metadata": {},
   "outputs": [
    {
     "name": "stdout",
     "output_type": "stream",
     "text": [
      "Average degree centrality: 0.00031850117112520044\n"
     ]
    },
    {
     "data": {
      "image/png": "[encoded data removed]",
      "text/plain": [
       "<Figure size 432x288 with 1 Axes>"
      ]
     },
     "metadata": {
      "needs_background": "light"
     },
     "output_type": "display_data"
    }
   ],
   "source": [
    "dc = nx.degree_centrality(g2)\n",
    "\n",
    "plt.hist(list(dc.values()), bins=50, log=True)\n",
    "\n",
    "plt.xlabel('Degree Centrality')\n",
    "plt.ylabel('# Nodes')\n",
    "\n",
    "plt.xlim([0, max(dc.values())])\n",
    "\n",
    "print(\"Average degree centrality:\", mean(list(dc.values())))"
   ]
  },
  {
   "cell_type": "markdown",
   "metadata": {},
   "source": [
    "### Betweenness centrality"
   ]
  },
  {
   "cell_type": "code",
   "execution_count": 7,
   "metadata": {},
   "outputs": [
    {
     "name": "stdout",
     "output_type": "stream",
     "text": [
      "CPU times: user 3h 10min 21s, sys: 8.29 s, total: 3h 10min 29s\n",
      "Wall time: 3h 15min 3s\n"
     ]
    }
   ],
   "source": [
    "%%time\n",
    "\n",
    "bc2 = nx.betweenness_centrality(g2)\n",
    "\n",
    "# Update node attributes\n",
    "for node in g2.nodes():\n",
    "    g2.nodes[node]['bc'] = bc2[node]"
   ]
  },
  {
   "cell_type": "code",
   "execution_count": 22,
   "metadata": {},
   "outputs": [
    {
     "name": "stdout",
     "output_type": "stream",
     "text": [
      "Average betweenness centrality: 0.0006669573568730229\n"
     ]
    },
    {
     "data": {
      "image/png": "[encoded data removed]",
      "text/plain": [
       "<Figure size 432x288 with 1 Axes>"
      ]
     },
     "metadata": {
      "needs_background": "light"
     },
     "output_type": "display_data"
    }
   ],
   "source": [
    "plt.hist(list(bc2.values()), bins=500, log=True)\n",
    "plt.xlabel('Betweenness Centrality')\n",
    "plt.ylabel('# Nodes')\n",
    "\n",
    "print(\"Average betweenness centrality:\", mean(list(bc.values())))"
   ]
  },
  {
   "cell_type": "markdown",
   "metadata": {},
   "source": [
    "### Eigenvector centrality"
   ]
  },
  {
   "cell_type": "code",
   "execution_count": 15,
   "metadata": {
    "scrolled": true
   },
   "outputs": [
    {
     "name": "stdout",
     "output_type": "stream",
     "text": [
      "Average Eigenvector centrality: 0.0015761693223108517\n"
     ]
    },
    {
     "data": {
      "image/png": "[encoded data removed]",
      "text/plain": [
       "<Figure size 432x288 with 1 Axes>"
      ]
     },
     "metadata": {
      "needs_background": "light"
     },
     "output_type": "display_data"
    }
   ],
   "source": [
    "eigen_c = nx.eigenvector_centrality(g2)\n",
    "\n",
    "plt.hist(list(eigen_c.values()), bins=500, log=True)\n",
    "plt.xlabel('Eigenvector Centrality')\n",
    "plt.ylabel('# Nodes')\n",
    "\n",
    "print(\"Average Eigenvector centrality:\", mean(list(eigen_c.values())))"
   ]
  },
  {
   "cell_type": "markdown",
   "metadata": {},
   "source": [
    "### Output as `GML`\n",
    "\n",
    "Write a code to store the graph in a file that is readable by Gephi (Hint: Use NetworkX `write_gml` method.) Make sure to add the betweenness centrality and degree of each node as an attribute of each node to be stored in this file for the next task."
   ]
  },
  {
   "cell_type": "code",
   "execution_count": 8,
   "metadata": {},
   "outputs": [],
   "source": [
    "nx.write_gml(g2, \"g2-2.gml\")"
   ]
  },
  {
   "cell_type": "markdown",
   "metadata": {},
   "source": [
    "## 'citNet'- Citation network analysis"
   ]
  },
  {
   "cell_type": "code",
   "execution_count": null,
   "metadata": {
    "scrolled": true
   },
   "outputs": [],
   "source": [
    "filename3 = \"/datasets/ece227-fa19-public/data/citNet/citations.txt\"\n",
    "\n",
    "g3 = nx.read_edgelist(filename3, create_using=nx.DiGraph(), nodetype=int)\n",
    "node, edge = g3.order(), g3.size()\n",
    "\n",
    "print(\"# nodes:\", node)\n",
    "print(\"# edges:\", edge)"
   ]
  },
  {
   "cell_type": "markdown",
   "metadata": {},
   "source": [
    "### Degree distribution"
   ]
  },
  {
   "cell_type": "code",
   "execution_count": 54,
   "metadata": {},
   "outputs": [],
   "source": [
    "from collections import Counter\n",
    "\n",
    "in_degree, in_degree_count = zip(*Counter(dict(g3.in_degree()).values()).items())\n",
    "out_degree, out_degree_count = zip(*Counter(dict(g3.out_degree()).values()).items())"
   ]
  },
  {
   "cell_type": "code",
   "execution_count": 55,
   "metadata": {
    "scrolled": true
   },
   "outputs": [
    {
     "data": {
      "text/plain": [
       "<matplotlib.legend.Legend at 0x7ff290650f28>"
      ]
     },
     "execution_count": 55,
     "metadata": {},
     "output_type": "execute_result"
    },
    {
     "data": {
      "image/png": "[encoded data removed]",
      "text/plain": [
       "<Figure size 432x288 with 1 Axes>"
      ]
     },
     "metadata": {
      "needs_background": "light"
     },
     "output_type": "display_data"
    }
   ],
   "source": [
    "plt.xlabel(\"Degree\")\n",
    "plt.ylabel(\"# Node\")\n",
    "plt.loglog(in_degree, in_degree_count,\n",
    "           c='r', linestyle='None', marker='*', label='In-degree')\n",
    "plt.loglog(out_degree, out_degree_count,\n",
    "           c='b', linestyle='None', marker='*', label='Out-degree')\n",
    "plt.legend()"
   ]
  },
  {
   "cell_type": "markdown",
   "metadata": {},
   "source": [
    "### Network diameter and average shortest path"
   ]
  },
  {
   "cell_type": "code",
   "execution_count": 3,
   "metadata": {},
   "outputs": [
    {
     "name": "stdout",
     "output_type": "stream",
     "text": [
      "The graph is not connected.\n"
     ]
    }
   ],
   "source": [
    "if nx.is_connected(g3.to_undirected()) is True:\n",
    "    diameter = nx.diameter(g3)\n",
    "    print(\"Network diameter:\", diameter)\n",
    "    \n",
    "    avg_spl = nx.average_shortest_path_length(g3)\n",
    "    print(\"Average Shortest path length:\", avg_spl)\n",
    "else:\n",
    "    print(\"The graph is not connected.\")"
   ]
  },
  {
   "cell_type": "markdown",
   "metadata": {},
   "source": [
    "Since the network is not connected the network diameter and average shortest path are not well-defined. We can instead find these quantities for the **largest connected component** in the graph."
   ]
  },
  {
   "cell_type": "code",
   "execution_count": 8,
   "metadata": {},
   "outputs": [
    {
     "name": "stdout",
     "output_type": "stream",
     "text": [
      "Name: \n",
      "Type: Graph\n",
      "Number of nodes: 27400\n",
      "Number of edges: 352059\n",
      "Average degree:  25.6977\n"
     ]
    }
   ],
   "source": [
    "connected_components = list(nx.connected_component_subgraphs(g3.to_undirected(), copy=True))\n",
    "largest_cc = max(connected_components, key=lambda x: x.order())\n",
    "\n",
    "print(nx.info(largest_cc))"
   ]
  },
  {
   "cell_type": "markdown",
   "metadata": {},
   "source": [
    "As we can see, this largest connected component is almost the same size as the original graph. From now on we would just focus on analyzing this connected component. Note that we have converted it to an **undirected** graph!"
   ]
  },
  {
   "cell_type": "code",
   "execution_count": 9,
   "metadata": {},
   "outputs": [],
   "source": [
    "g3 = largest_cc"
   ]
  },
  {
   "cell_type": "code",
   "execution_count": 10,
   "metadata": {},
   "outputs": [],
   "source": [
    "# Redo updating node degree attributes.\n",
    "for node in g3.nodes():\n",
    "    g3.nodes[node]['deg'] = g3.degree[node]"
   ]
  },
  {
   "cell_type": "code",
   "execution_count": 6,
   "metadata": {},
   "outputs": [
    {
     "name": "stdout",
     "output_type": "stream",
     "text": [
      "Network diameter: 15\n",
      "CPU times: user 2h 16min 59s, sys: 5.75 s, total: 2h 17min 5s\n",
      "Wall time: 2h 20min 20s\n"
     ]
    }
   ],
   "source": [
    "%%time\n",
    "diameter = nx.diameter(g3)\n",
    "print(\"Network diameter:\", diameter)"
   ]
  },
  {
   "cell_type": "code",
   "execution_count": 7,
   "metadata": {},
   "outputs": [
    {
     "name": "stdout",
     "output_type": "stream",
     "text": [
      "Average Shortest path length: 4.278680083960654\n",
      "CPU times: user 2h 8min 29s, sys: 1.13 s, total: 2h 8min 30s\n",
      "Wall time: 2h 11min 1s\n"
     ]
    }
   ],
   "source": [
    "%%time\n",
    "avg_spl = nx.average_shortest_path_length(g3)\n",
    "print(\"Average Shortest path length:\", avg_spl)"
   ]
  },
  {
   "cell_type": "markdown",
   "metadata": {},
   "source": [
    "### Clustering coefficients"
   ]
  },
  {
   "cell_type": "code",
   "execution_count": 29,
   "metadata": {},
   "outputs": [
    {
     "name": "stdout",
     "output_type": "stream",
     "text": [
      "Average clusterng coefficient: 0.31391537950872084\n"
     ]
    },
    {
     "data": {
      "image/png": "[encoded data removed]",
      "text/plain": [
       "<Figure size 432x288 with 1 Axes>"
      ]
     },
     "metadata": {
      "needs_background": "light"
     },
     "output_type": "display_data"
    }
   ],
   "source": [
    "cc = nx.clustering(g3)\n",
    "\n",
    "plt.hist(list(cc.values()), bins=100)\n",
    "plt.xlabel('Clustering Coefficient')\n",
    "plt.ylabel('# Nodes')\n",
    "plt.xlim([0, 1])\n",
    "\n",
    "print(\"Average clusterng coefficient:\", mean(list(cc.values())))"
   ]
  },
  {
   "cell_type": "markdown",
   "metadata": {},
   "source": [
    "### Degree centrality"
   ]
  },
  {
   "cell_type": "code",
   "execution_count": 11,
   "metadata": {},
   "outputs": [
    {
     "name": "stdout",
     "output_type": "stream",
     "text": [
      "Average degree centrality: 0.0009379078516105469\n"
     ]
    },
    {
     "data": {
      "image/png": "[encoded data removed]",
      "text/plain": [
       "<Figure size 432x288 with 1 Axes>"
      ]
     },
     "metadata": {
      "needs_background": "light"
     },
     "output_type": "display_data"
    }
   ],
   "source": [
    "dc = nx.degree_centrality(g3)\n",
    "\n",
    "# Update node attributes\n",
    "for node in g3.nodes():\n",
    "    g3.nodes[node]['dc'] = dc[node]\n",
    "\n",
    "plt.hist(list(dc.values()), bins=50, log=True)\n",
    "\n",
    "plt.xlabel('Degree Centrality')\n",
    "plt.ylabel('# Nodes')\n",
    "\n",
    "plt.xlim([0, max(dc.values())])\n",
    "\n",
    "print(\"Average degree centrality:\", mean(list(dc.values())))"
   ]
  },
  {
   "cell_type": "markdown",
   "metadata": {},
   "source": [
    "### Add the author name as a node attribute"
   ]
  },
  {
   "cell_type": "code",
   "execution_count": 47,
   "metadata": {},
   "outputs": [],
   "source": [
    "# Extract the author name\n",
    "def get_authors(l):\n",
    "    authors = reduce(list.__add__, [a.split(\",\") for a in l[9:].split(\"and\")])\n",
    "    return [x.strip() for x in authors]\n",
    "\n",
    "# Attach the attribute author\n",
    "import os\n",
    "thred = sorted(dc.values(), reverse=True)[100]\n",
    "\n",
    "from functools import reduce\n",
    "\n",
    "for subdir, dirs, files in os.walk(\"data/citNet/cit-HepTh-abstracts\"):\n",
    "    for fl in files:\n",
    "        filepath = subdir + os.sep + fl\n",
    "        if filepath.endswith(\".abs\"):\n",
    "            node_num = int(fl[:-4])\n",
    "            name = \"\"\n",
    "        for l in open(filepath):\n",
    "            if l.startswith(\"Authors:\"):\n",
    "                name = get_authors(l)[0]\n",
    "                if node_num in g3.nodes():\n",
    "                    if g3.node[node_num]['dc'] > thred:\n",
    "                        g3.node[node_num]['author'] = name\n",
    "                    elif 'author' in g3.node[node_num]:\n",
    "                        del g3.node[node_num]['author']"
   ]
  },
  {
   "cell_type": "markdown",
   "metadata": {},
   "source": [
    "### Betweenness centrality"
   ]
  },
  {
   "cell_type": "code",
   "execution_count": 44,
   "metadata": {},
   "outputs": [
    {
     "name": "stdout",
     "output_type": "stream",
     "text": [
      "CPU times: user 2h 31min 37s, sys: 4.07 s, total: 2h 31min 41s\n",
      "Wall time: 2h 34min 1s\n"
     ]
    }
   ],
   "source": [
    "%%time\n",
    "bc3 = nx.betweenness_centrality(g3)\n",
    "\n",
    "# Update node attributes\n",
    "for node in g3.nodes():\n",
    "    g3.nodes[node]['bc'] = bc3[node]"
   ]
  },
  {
   "cell_type": "code",
   "execution_count": 64,
   "metadata": {},
   "outputs": [
    {
     "name": "stdout",
     "output_type": "stream",
     "text": [
      "Average betweenness centrality: 0.00011966859201257955\n"
     ]
    },
    {
     "data": {
      "image/png": "[encoded data removed]",
      "text/plain": [
       "<Figure size 432x288 with 1 Axes>"
      ]
     },
     "metadata": {
      "needs_background": "light"
     },
     "output_type": "display_data"
    }
   ],
   "source": [
    "plt.hist(list(bc3.values()), bins=500, log=True)\n",
    "plt.xlabel('Betweenness Centrality')\n",
    "plt.ylabel('# Nodes')\n",
    "\n",
    "print(\"Average betweenness centrality:\", mean(list(bc3.values())))"
   ]
  },
  {
   "cell_type": "markdown",
   "metadata": {},
   "source": [
    "### Eigenvector centrality"
   ]
  },
  {
   "cell_type": "code",
   "execution_count": 34,
   "metadata": {
    "scrolled": true
   },
   "outputs": [
    {
     "name": "stdout",
     "output_type": "stream",
     "text": [
      "Average Eigenvector centrality: 0.00249834275697272\n"
     ]
    },
    {
     "data": {
      "image/png": "[encoded data removed]",
      "text/plain": [
       "<Figure size 432x288 with 1 Axes>"
      ]
     },
     "metadata": {
      "needs_background": "light"
     },
     "output_type": "display_data"
    }
   ],
   "source": [
    "eigen_c = nx.eigenvector_centrality(g3)\n",
    "\n",
    "plt.hist(list(eigen_c.values()), bins=500, log=True)\n",
    "plt.xlabel('Eigenvector Centrality')\n",
    "plt.ylabel('# Nodes')\n",
    "\n",
    "print(\"Average Eigenvector centrality:\", mean(list(eigen_c.values())))"
   ]
  },
  {
   "cell_type": "markdown",
   "metadata": {},
   "source": [
    "### Output as `GML`\n",
    "\n",
    "Write a code to store the graph in a file that is readable by Gephi (Hint: Use NetworkX `write_gml` method.) Make sure to add the betweenness centrality and degree of each node as an attribute of each node to be stored in this file for the next task."
   ]
  },
  {
   "cell_type": "code",
   "execution_count": 45,
   "metadata": {},
   "outputs": [],
   "source": [
    "nx.write_gml(g3, \"g3.gml\")"
   ]
  },
  {
   "cell_type": "markdown",
   "metadata": {},
   "source": [
    "## Erdos Network- Collaboration Network analysis"
   ]
  },
  {
   "cell_type": "code",
   "execution_count": 5,
   "metadata": {},
   "outputs": [
    {
     "name": "stdout",
     "output_type": "stream",
     "text": [
      "Name: \n",
      "Type: Graph\n",
      "Number of nodes: 11524\n",
      "Number of edges: 18504\n",
      "Average degree:   3.2114\n",
      "CPU times: user 186 ms, sys: 14.2 ms, total: 200 ms\n",
      "Wall time: 199 ms\n"
     ]
    }
   ],
   "source": [
    "%%time\n",
    "\n",
    "# Undirected network\n",
    "g4 = nx.Graph()\n",
    "\n",
    "# Add Paul Erdos into our network at first\n",
    "dict_authors = {}\n",
    "dict_authors['Paul Erdos'] = 0\n",
    "g4.add_node(0)\n",
    "g4.node[0]['author'] = 'Paul Erdos'\n",
    "\n",
    "# Add the authors with Erdos number 1 and 2 from file\n",
    "line_count = 1\n",
    "skip_line = 24\n",
    "skip_space = 1\n",
    "\n",
    "is_new = False\n",
    "author = \"\"\n",
    "coauthor = \"\"\n",
    "index = 1\n",
    "ind_author = 1\n",
    "ind_coauthor = 1\n",
    "\n",
    "def parseLine(l, start):\n",
    "    end = start\n",
    "    while end < len(l) - 1 and not (l[end] == ' ' and l[end + 1] == ' '):\n",
    "        end += 1\n",
    "    return l[start:end]\n",
    "\n",
    "def addAuthor(auth, ind):\n",
    "    if auth in dict_authors:\n",
    "        return ind\n",
    "    dict_authors[auth] = ind\n",
    "    return ind + 1\n",
    "\n",
    "for l in open(\"/datasets/ece227-fa19-public/data/erdos/Erdos1.html\"):    \n",
    "    if line_count >= skip_line:\n",
    "        if l == '\\n':\n",
    "            is_new = True\n",
    "        elif is_new:\n",
    "            author = parseLine(l, 0)\n",
    "            index = addAuthor(author, index)\n",
    "            ind_author = dict_authors[author]\n",
    "            g4.add_edge(0, ind_author)\n",
    "            g4.node[ind_author]['author'] = author\n",
    "            is_new = False\n",
    "        elif l == '</pre>':\n",
    "            break\n",
    "        else:\n",
    "            coauthor = parseLine(l, skip_space)\n",
    "            index = addAuthor(coauthor, index)\n",
    "            ind_coauthor = dict_authors[coauthor]\n",
    "            g4.add_edge(ind_author, ind_coauthor)\n",
    "            g4.node[ind_coauthor]['author'] = coauthor\n",
    "    line_count += 1\n",
    "\n",
    "print(nx.info(g4))"
   ]
  },
  {
   "cell_type": "markdown",
   "metadata": {},
   "source": [
    "### Degree distribution"
   ]
  },
  {
   "cell_type": "code",
   "execution_count": 6,
   "metadata": {},
   "outputs": [],
   "source": [
    "# Update node attributes\n",
    "for node in g4.nodes():\n",
    "    g4.nodes[node]['deg'] = g4.degree[node]"
   ]
  },
  {
   "cell_type": "code",
   "execution_count": 10,
   "metadata": {
    "scrolled": true
   },
   "outputs": [
    {
     "data": {
      "text/plain": [
       "[<matplotlib.lines.Line2D at 0x7f48c764df60>]"
      ]
     },
     "execution_count": 10,
     "metadata": {},
     "output_type": "execute_result"
    },
    {
     "data": {
      "image/png": "[encoded data removed]",
      "text/plain": [
       "<Figure size 432x288 with 1 Axes>"
      ]
     },
     "metadata": {
      "needs_background": "light"
     },
     "output_type": "display_data"
    }
   ],
   "source": [
    "plt.xlabel(\"Degree\")\n",
    "plt.ylabel(\"# Node\")\n",
    "plt.loglog(nx.degree_histogram(g4))"
   ]
  },
  {
   "cell_type": "markdown",
   "metadata": {},
   "source": [
    "### Network diameter and average shortest path"
   ]
  },
  {
   "cell_type": "code",
   "execution_count": 13,
   "metadata": {},
   "outputs": [
    {
     "data": {
      "text/plain": [
       "True"
      ]
     },
     "execution_count": 13,
     "metadata": {},
     "output_type": "execute_result"
    }
   ],
   "source": [
    "nx.is_connected(g4)"
   ]
  },
  {
   "cell_type": "markdown",
   "metadata": {},
   "source": [
    "The graph is connected and thus we can find the diameter and average shortest path length on the graph."
   ]
  },
  {
   "cell_type": "code",
   "execution_count": 14,
   "metadata": {},
   "outputs": [
    {
     "name": "stdout",
     "output_type": "stream",
     "text": [
      "Network diameter: 4\n",
      "CPU times: user 5min 26s, sys: 80.8 ms, total: 5min 26s\n",
      "Wall time: 5min 29s\n"
     ]
    }
   ],
   "source": [
    "%%time\n",
    "diameter = nx.diameter(g4)\n",
    "print(\"Network diameter:\", diameter)"
   ]
  },
  {
   "cell_type": "code",
   "execution_count": 15,
   "metadata": {},
   "outputs": [
    {
     "name": "stdout",
     "output_type": "stream",
     "text": [
      "Average Shortest path length: 3.821987433309889\n",
      "CPU times: user 5min 28s, sys: 27 ms, total: 5min 28s\n",
      "Wall time: 5min 31s\n"
     ]
    }
   ],
   "source": [
    "%%time\n",
    "avg_spl = nx.average_shortest_path_length(g4)\n",
    "print(\"Average Shortest path length:\", avg_spl)"
   ]
  },
  {
   "cell_type": "markdown",
   "metadata": {},
   "source": [
    "### Clustering coefficients"
   ]
  },
  {
   "cell_type": "code",
   "execution_count": 17,
   "metadata": {},
   "outputs": [
    {
     "name": "stdout",
     "output_type": "stream",
     "text": [
      "Average clusterng coefficient: 0.10586960819655972\n"
     ]
    },
    {
     "data": {
      "image/png": "[encoded data removed]",
      "text/plain": [
       "<Figure size 432x288 with 1 Axes>"
      ]
     },
     "metadata": {
      "needs_background": "light"
     },
     "output_type": "display_data"
    }
   ],
   "source": [
    "cc = nx.clustering(g4)\n",
    "\n",
    "plt.hist(list(cc.values()), bins=100, log=True)\n",
    "plt.xlabel('Clustering Coefficient')\n",
    "plt.ylabel('# Nodes')\n",
    "plt.xlim([0, 1])\n",
    "\n",
    "print(\"Average clusterng coefficient:\", mean(list(cc.values())))"
   ]
  },
  {
   "cell_type": "markdown",
   "metadata": {},
   "source": [
    "### Degree centrality"
   ]
  },
  {
   "cell_type": "code",
   "execution_count": 18,
   "metadata": {},
   "outputs": [
    {
     "name": "stdout",
     "output_type": "stream",
     "text": [
      "Average degree centrality: 0.00027869347702735273\n"
     ]
    },
    {
     "data": {
      "image/png": "[encoded data removed]",
      "text/plain": [
       "<Figure size 432x288 with 1 Axes>"
      ]
     },
     "metadata": {
      "needs_background": "light"
     },
     "output_type": "display_data"
    }
   ],
   "source": [
    "dc = nx.degree_centrality(g4)\n",
    "\n",
    "plt.hist(list(dc.values()), bins=50, log=True)\n",
    "\n",
    "plt.xlabel('Degree Centrality')\n",
    "plt.ylabel('# Nodes')\n",
    "\n",
    "plt.xlim([0, max(dc.values())])\n",
    "\n",
    "print(\"Average degree centrality:\", mean(list(dc.values())))"
   ]
  },
  {
   "cell_type": "markdown",
   "metadata": {},
   "source": [
    "### Betweenness centrality"
   ]
  },
  {
   "cell_type": "code",
   "execution_count": 19,
   "metadata": {},
   "outputs": [
    {
     "name": "stdout",
     "output_type": "stream",
     "text": [
      "CPU times: user 10min 30s, sys: 185 ms, total: 10min 30s\n",
      "Wall time: 10min 38s\n"
     ]
    }
   ],
   "source": [
    "%%time\n",
    "bc4 = nx.betweenness_centrality(g4)\n",
    "\n",
    "# Update node attributes\n",
    "for node in g4.nodes():\n",
    "    g4.nodes[node]['bc'] = bc4[node]"
   ]
  },
  {
   "cell_type": "code",
   "execution_count": 22,
   "metadata": {},
   "outputs": [
    {
     "name": "stdout",
     "output_type": "stream",
     "text": [
      "Average betweenness centrality: 0.00024492166579672845\n"
     ]
    },
    {
     "data": {
      "image/png": "[encoded data removed]",
      "text/plain": [
       "<Figure size 432x288 with 1 Axes>"
      ]
     },
     "metadata": {
      "needs_background": "light"
     },
     "output_type": "display_data"
    }
   ],
   "source": [
    "plt.hist(list(bc4.values()), bins=50, log=True)\n",
    "plt.xlabel('Betweenness Centrality')\n",
    "plt.ylabel('# Nodes')\n",
    "\n",
    "print(\"Average betweenness centrality:\", mean(list(bc4.values())))"
   ]
  },
  {
   "cell_type": "markdown",
   "metadata": {},
   "source": [
    "### Eigenvector centrality"
   ]
  },
  {
   "cell_type": "code",
   "execution_count": 24,
   "metadata": {
    "scrolled": true
   },
   "outputs": [
    {
     "name": "stdout",
     "output_type": "stream",
     "text": [
      "Average Eigenvector centrality: 0.00322617041778304\n"
     ]
    },
    {
     "data": {
      "image/png": "[encoded data removed]",
      "text/plain": [
       "<Figure size 432x288 with 1 Axes>"
      ]
     },
     "metadata": {
      "needs_background": "light"
     },
     "output_type": "display_data"
    }
   ],
   "source": [
    "eigen_c = nx.eigenvector_centrality(g4)\n",
    "\n",
    "plt.hist(list(eigen_c.values()), bins=100, log=True)\n",
    "plt.xlabel('Eigenvector Centrality')\n",
    "plt.ylabel('# Nodes')\n",
    "\n",
    "print(\"Average Eigenvector centrality:\", mean(list(eigen_c.values())))"
   ]
  },
  {
   "cell_type": "markdown",
   "metadata": {},
   "source": [
    "### Output as `GML`\n",
    "\n",
    "Write a code to store the graph in a file that is readable by Gephi (Hint: Use NetworkX `write_gml` method.) Make sure to add the betweenness centrality and degree of each node as an attribute of each node to be stored in this file for the next task."
   ]
  },
  {
   "cell_type": "code",
   "execution_count": 25,
   "metadata": {},
   "outputs": [],
   "source": [
    "nx.write_gml(g4, \"g4.gml\")"
   ]
  },
  {
   "cell_type": "markdown",
   "metadata": {},
   "source": [
    "## Task 2\n",
    "\n",
    "\n",
    "In this task we will use Gephi to visualize the networks that you analyzed. In the previous task, you saved the graph in the graphml format such that each node has its **degree** and its **betweenness centrality** as its attribute. In this task, you are going to use these attributes to have a better visualization of the graph. Follow these steps to obtain a nice and meaningful visualization of the graphs:\n",
    "\n",
    "- Open Gephi.\n",
    "- Open the '.gml' file of a network.\n",
    "- Change 'Layout' of the graph to Force Atlas 2, etc. to have a better visualisation.\n",
    "- In the 'Appearance' window there are multiple options to change the appearance of the nodes/ edges of the graph according to various network properties like degree, clustering coefficient, modularity class, etc.\n",
    "- Set the node sizes according to Degree distribution.\n",
    "- Save the image file and include it in the following cell for each of the above networks.\n",
    "\n",
    "\n",
    "Respond to the following questions for the **Facebook** and **Enron-email** datasets.\n",
    "\n",
    "1. Visualize the network in Gephi by using a suitable layout, with the node size as well as the node label / Id proportional to the degree distribution of each node. Use 3 different colors to differentiate nodes with high, moderate and low degree distributions.\n",
    "2. Repeat 1. with the node size as well as the node label / Id size proportional to the betweenness centrality.\n",
    "3. Analyze all the graphs and explain which of the nodes according to you are the most important ones, as far as the network structure is concerned. Why?"
   ]
  },
  {
   "cell_type": "markdown",
   "metadata": {
    "collapsed": true
   },
   "source": [
    "### Graph images\n",
    "\n",
    "Please see folder `facebook/`, `enron/`, `citNet/` and `erdos/` for the images of the graph visualization."
   ]
  },
  {
   "cell_type": "markdown",
   "metadata": {},
   "source": [
    "### Most important nodes in the Facebook dataset\n",
    "\n",
    "Nodes are colored according to degree and betweenness centrality (red to light yellow to blue, decreasing importance). Some most important ones are:\n",
    "\n",
    "- Node 107, 1912, 1684 (shown in read)\n",
    "- Node 3437, 0, 483, 348, 2347, 2543 (shown in light yellow)\n"
   ]
  },
  {
   "cell_type": "markdown",
   "metadata": {},
   "source": [
    "### Most important nodes in the Enron-email dataset\n",
    "\n",
    "Nodes are colored according to degree and betweenness centrality (red to light yellow to blue, decreasing importance). Some most important ones are:\n",
    "\n",
    "- Node 5038, 1139, 458, 195, 136, 370, 1028, 273, 140 (shown in read)"
   ]
  },
  {
   "cell_type": "markdown",
   "metadata": {},
   "source": [
    "### Remarks\n",
    "\n",
    "We can also observe that in the Facebook dataset there are some nodes with extremely high degree and betweenness centrality compared with others, whereas in the Enron-email dataset, node degrees are more evenly distributed. This can be explained by the intrinsical difference between the strucutre of these two networks."
   ]
  },
  {
   "cell_type": "code",
   "execution_count": null,
   "metadata": {},
   "outputs": [],
   "source": []
  }
 ],
 "metadata": {
  "kernelspec": {
   "display_name": "Python 3",
   "language": "python",
   "name": "python3"
  },
  "language_info": {
   "codemirror_mode": {
    "name": "ipython",
    "version": 3
   },
   "file_extension": ".py",
   "mimetype": "text/x-python",
   "name": "python",
   "nbconvert_exporter": "python",
   "pygments_lexer": "ipython3",
   "version": "3.7.3"
  }
 },
 "nbformat": 4,
 "nbformat_minor": 2
}
